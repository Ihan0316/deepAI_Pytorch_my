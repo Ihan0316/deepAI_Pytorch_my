{
 "cells": [
  {
   "metadata": {
    "ExecuteTime": {
     "end_time": "2025-03-17T00:21:54.036610Z",
     "start_time": "2025-03-17T00:21:53.614973Z"
    }
   },
   "cell_type": "code",
   "source": "import torch",
   "id": "4348ad79e99e1eda",
   "outputs": [],
   "execution_count": 1
  },
  {
   "metadata": {
    "ExecuteTime": {
     "end_time": "2025-03-17T00:21:54.043519Z",
     "start_time": "2025-03-17T00:21:54.040285Z"
    }
   },
   "cell_type": "code",
   "source": [
    "# 📌 문제 1: PyTorch에서 랜덤 텐서를 생성하고, 가장 큰 값을 가진 인덱스를 찾으세요.\n",
    "\n",
    "# (1) 4x4 크기의 랜덤 텐서를 생성하세요.\n",
    "x = torch.rand(4,4)\n",
    "print(x)\n",
    "# (2) 각 행에서 가장 큰 값을 가진 인덱스를 찾으세요.\n",
    "max_indices = torch.argmax(x, dim=1)\n",
    "print(max_indices)"
   ],
   "id": "ba763aba966a972d",
   "outputs": [
    {
     "name": "stdout",
     "output_type": "stream",
     "text": [
      "tensor([[0.5853, 0.3708, 0.4248, 0.8097],\n",
      "        [0.5553, 0.9625, 0.3232, 0.1568],\n",
      "        [0.1053, 0.9950, 0.0228, 0.3564],\n",
      "        [0.2007, 0.8221, 0.5776, 0.3008]])\n",
      "tensor([3, 1, 1, 1])\n"
     ]
    }
   ],
   "execution_count": 2
  },
  {
   "metadata": {
    "ExecuteTime": {
     "end_time": "2025-03-17T00:21:54.130915Z",
     "start_time": "2025-03-17T00:21:54.128776Z"
    }
   },
   "cell_type": "code",
   "source": [
    "# 📌 문제 2: squeeze()와 unsqueeze()를 이용해 텐서의 차원을 조작하세요.\n",
    "#\n",
    "# # (1) (1, 3, 1, 4) 크기의 랜덤 텐서를 생성하세요.\n",
    "x = torch.rand(1,3,1,4)\n",
    "# # (2) squeeze()를 사용하여 크기를 줄이세요.\n",
    "x_squeezed = x.squeeze()\n",
    "print(x_squeezed.shape)\n",
    "# # (3) unsqueeze()를 사용하여 특정 차원에 새 차원을 추가하세요.\n",
    "x_unsqueezed = x_squeezed.unsqueeze_(1)\n",
    "print(x_unsqueezed.shape)"
   ],
   "id": "85046d4da6e6da62",
   "outputs": [
    {
     "name": "stdout",
     "output_type": "stream",
     "text": [
      "torch.Size([3, 4])\n",
      "torch.Size([3, 1, 4])\n"
     ]
    }
   ],
   "execution_count": 3
  },
  {
   "metadata": {
    "ExecuteTime": {
     "end_time": "2025-03-17T00:21:54.137283Z",
     "start_time": "2025-03-17T00:21:54.134788Z"
    }
   },
   "cell_type": "code",
   "source": [
    "# 📌 문제 3: torch.cat()과 torch.stack()의 차이를 확인하세요.\n",
    "# (1) 크기가 (2,3)인 두 개의 텐서를 만드세요.\n",
    "a = torch.tensor([[1,2,3],[4,5,6]])\n",
    "b = torch.tensor([[7,8,9],[10,11,12]])\n",
    "# (2) torch.cat()을 이용하여 dim=0 방향으로 연결하세요.\n",
    "cat_result = torch.cat([a,b], dim=0)\n",
    "print(cat_result)\n",
    "print(cat_result.shape)\n",
    "# (3) torch.stack()을 이용하여 dim=0 방향으로 스택하세요.\n",
    "stack_result = torch.stack([a,b], dim=0)\n",
    "print(stack_result)\n",
    "print(stack_result.shape)\n"
   ],
   "id": "f3f41ef0c211e8db",
   "outputs": [
    {
     "name": "stdout",
     "output_type": "stream",
     "text": [
      "tensor([[ 1,  2,  3],\n",
      "        [ 4,  5,  6],\n",
      "        [ 7,  8,  9],\n",
      "        [10, 11, 12]])\n",
      "torch.Size([4, 3])\n",
      "tensor([[[ 1,  2,  3],\n",
      "         [ 4,  5,  6]],\n",
      "\n",
      "        [[ 7,  8,  9],\n",
      "         [10, 11, 12]]])\n",
      "torch.Size([2, 2, 3])\n"
     ]
    }
   ],
   "execution_count": 4
  },
  {
   "metadata": {
    "ExecuteTime": {
     "end_time": "2025-03-17T00:21:54.157337Z",
     "start_time": "2025-03-17T00:21:54.154627Z"
    }
   },
   "cell_type": "code",
   "source": [
    "# 📌 문제 4: torch.index_select()를 이용해 특정 행/열을 선택하세요.\n",
    "\n",
    "# (1) 크기가 (4,4)인 랜덤 텐서를 생성하세요.\n",
    "x = torch.rand(4, 4)\n",
    "print(\"원본 텐서:\\n\", x)\n",
    "# (2) 첫 번째 열과 세 번째 열을 선택하여 새로운 텐서를 만드세요.\n",
    "indices = torch.tensor([0, 2])\n",
    "selected_cols = torch.index_select(x, dim=1, index=indices)\n",
    "print(\"선택된 열들:\\n\", selected_cols)"
   ],
   "id": "ad41a24af0dd014a",
   "outputs": [
    {
     "name": "stdout",
     "output_type": "stream",
     "text": [
      "원본 텐서:\n",
      " tensor([[0.9319, 0.5791, 0.1587, 0.9360],\n",
      "        [0.3000, 0.7343, 0.2133, 0.3536],\n",
      "        [0.3767, 0.3433, 0.2839, 0.8639],\n",
      "        [0.1567, 0.6984, 0.2107, 0.8539]])\n",
      "선택된 열들:\n",
      " tensor([[0.9319, 0.1587],\n",
      "        [0.3000, 0.2133],\n",
      "        [0.3767, 0.2839],\n",
      "        [0.1567, 0.2107]])\n"
     ]
    }
   ],
   "execution_count": 5
  },
  {
   "metadata": {
    "ExecuteTime": {
     "end_time": "2025-03-17T00:21:54.169059Z",
     "start_time": "2025-03-17T00:21:54.166165Z"
    }
   },
   "cell_type": "code",
   "source": [
    "# 📌 문제 5: torch.topk()와 masked_fill()을 조합하여\n",
    "# 특정 조건을 만족하는 값을 변경하세요.\n",
    "\n",
    "# (1) 크기가 (3,5)인 랜덤 텐서를 생성하세요.\n",
    "x = torch.rand(3, 5)\n",
    "print(\"원본 텐서:\\n\", x)\n",
    "# (2) 각 행에서 상위 3개의 값만 유지하고 나머지는 0으로 채우세요.\n",
    "values, indices = torch.topk(x, k=3, dim=1)\n",
    "#(3) 나머지 모든 원소는 0으로 만들고, 상위 3개만 위치만 유지.\n",
    "# scatter_(1, indices, 1), 1 : 열기준으로 값을 할당,\n",
    "# 찾은 위치의 값 할당,\n",
    "# 1 : 해당 위치에 1로 값을 변경.\n",
    "mask = torch.zeros_like(x).scatter_(1, indices, 1)\n",
    "masked_x = x * mask\n",
    "print(\"상위 3개 값만 유지된 텐서:\\n\", masked_x)"
   ],
   "id": "7e89d858e2cfb8b1",
   "outputs": [
    {
     "name": "stdout",
     "output_type": "stream",
     "text": [
      "원본 텐서:\n",
      " tensor([[0.3569, 0.3793, 0.9798, 0.6741, 0.1619],\n",
      "        [0.1803, 0.4980, 0.8745, 0.0865, 0.4562],\n",
      "        [0.6216, 0.9604, 0.6189, 0.6001, 0.2612]])\n",
      "상위 3개 값만 유지된 텐서:\n",
      " tensor([[0.0000, 0.3793, 0.9798, 0.6741, 0.0000],\n",
      "        [0.0000, 0.4980, 0.8745, 0.0000, 0.4562],\n",
      "        [0.6216, 0.9604, 0.6189, 0.0000, 0.0000]])\n"
     ]
    }
   ],
   "execution_count": 6
  },
  {
   "metadata": {
    "ExecuteTime": {
     "end_time": "2025-03-17T00:21:54.185295Z",
     "start_time": "2025-03-17T00:21:54.182378Z"
    }
   },
   "cell_type": "code",
   "source": [
    "# 📌 문제 6: torch.randperm()을 이용하여 데이터를 랜덤하게 섞은 후,\n",
    "# torch.chunk()로 나누세요.\n",
    "#\n",
    "# (1) 10개의 원소를 가진 텐서를 0~9까지 숫자로 채우세요.\n",
    "x = torch.arange(10)\n",
    "print(\"원본 텐서:\", x)\n",
    "\n",
    "# (2) `torch.randperm()`을 사용하여 무작위로 섞으세요.\n",
    "shuffled_x = x[torch.randperm(10)]\n",
    "print(\"섞인 텐서:\", shuffled_x)\n",
    "# (3) `torch.chunk()`를 사용하여 2개의 부분으로 나누세요.\n",
    "chunks = torch.chunk(shuffled_x, chunks=2)\n",
    "print(\"첫 번째 부분:\", chunks[0])\n",
    "print(\"두 번째 부분:\", chunks[1])"
   ],
   "id": "779c6c937d4a789",
   "outputs": [
    {
     "name": "stdout",
     "output_type": "stream",
     "text": [
      "원본 텐서: tensor([0, 1, 2, 3, 4, 5, 6, 7, 8, 9])\n",
      "섞인 텐서: tensor([1, 8, 4, 9, 3, 2, 0, 5, 6, 7])\n",
      "첫 번째 부분: tensor([1, 8, 4, 9, 3])\n",
      "두 번째 부분: tensor([2, 0, 5, 6, 7])\n"
     ]
    }
   ],
   "execution_count": 7
  },
  {
   "metadata": {
    "ExecuteTime": {
     "end_time": "2025-03-17T00:21:54.195837Z",
     "start_time": "2025-03-17T00:21:54.193558Z"
    }
   },
   "cell_type": "code",
   "source": [
    "# 📌 문제 7: expand()를 사용하여 텐서 크기를 확장하세요.\n",
    "\n",
    "# (1) 크기가 (1, 3)인 텐서를 생성하세요.\n",
    "x = torch.tensor([[1, 2, 3]])  # Shape: (1,3)\n",
    "print(\"원본 텐서:\\n\", x)\n",
    "# (2) `expand()`를 사용하여 (5, 3) 크기로 확장하세요.\n",
    "expanded_x = x.expand(5, 3)\n",
    "print(\"expand() 적용 후:\\n\", expanded_x)\n"
   ],
   "id": "820970dc612f5322",
   "outputs": [
    {
     "name": "stdout",
     "output_type": "stream",
     "text": [
      "원본 텐서:\n",
      " tensor([[1, 2, 3]])\n",
      "expand() 적용 후:\n",
      " tensor([[1, 2, 3],\n",
      "        [1, 2, 3],\n",
      "        [1, 2, 3],\n",
      "        [1, 2, 3],\n",
      "        [1, 2, 3]])\n"
     ]
    }
   ],
   "execution_count": 8
  },
  {
   "metadata": {
    "ExecuteTime": {
     "end_time": "2025-03-17T00:21:54.206774Z",
     "start_time": "2025-03-17T00:21:54.204181Z"
    }
   },
   "cell_type": "code",
   "source": [
    "# 📌 문제 8: split()과 chunk()의 차이를 이해하세요.\n",
    "#\n",
    "# (1) 크기가 (10,)인 1D 텐서를 생성하세요.\n",
    "x = torch.arange(10)\n",
    "print(\"원본 텐서:\", x)\n",
    "# (2) `split()`을 사용하여 3개의 텐서로 나누세요.\n",
    "split_result = torch.split(x, [3, 3, 4])\n",
    "print(\"split() 결과:\", split_result)\n",
    "# (3) `chunk()`을 사용하여 3개의 텐서로 나누세요.\n",
    "chunk_result = torch.chunk(x, chunks=3)\n",
    "print(\"chunk() 결과:\", chunk_result)"
   ],
   "id": "4cfad53a64a335ab",
   "outputs": [
    {
     "name": "stdout",
     "output_type": "stream",
     "text": [
      "원본 텐서: tensor([0, 1, 2, 3, 4, 5, 6, 7, 8, 9])\n",
      "split() 결과: (tensor([0, 1, 2]), tensor([3, 4, 5]), tensor([6, 7, 8, 9]))\n",
      "chunk() 결과: (tensor([0, 1, 2, 3]), tensor([4, 5, 6, 7]), tensor([8, 9]))\n"
     ]
    }
   ],
   "execution_count": 9
  },
  {
   "metadata": {
    "ExecuteTime": {
     "end_time": "2025-03-17T00:21:54.217847Z",
     "start_time": "2025-03-17T00:21:54.215557Z"
    }
   },
   "cell_type": "code",
   "source": [
    "# 📌 문제 9: masked_fill()을 사용하여 특정 조건을 만족하는 요소를 변경하세요.\n",
    "\n",
    "# (1) 크기가 (3, 3)인 랜덤 텐서를 생성하세요.\n",
    "x = torch.rand(3, 3)\n",
    "print(\"원본 텐서:\\n\", x)\n",
    "\n",
    "# (2) 값이 0.5보다 작은 요소를 -1로 변경하세요.\n",
    "masked_x = x.masked_fill(x < 0.5, -1)\n",
    "print(\"masked_fill() 적용 후:\\n\", masked_x)\n"
   ],
   "id": "54c4e1030d4f6300",
   "outputs": [
    {
     "name": "stdout",
     "output_type": "stream",
     "text": [
      "원본 텐서:\n",
      " tensor([[0.7404, 0.8655, 0.2163],\n",
      "        [0.9230, 0.5296, 0.3664],\n",
      "        [0.7761, 0.0066, 0.8057]])\n",
      "masked_fill() 적용 후:\n",
      " tensor([[ 0.7404,  0.8655, -1.0000],\n",
      "        [ 0.9230,  0.5296, -1.0000],\n",
      "        [ 0.7761, -1.0000,  0.8057]])\n"
     ]
    }
   ],
   "execution_count": 10
  },
  {
   "metadata": {
    "ExecuteTime": {
     "end_time": "2025-03-17T00:21:54.228549Z",
     "start_time": "2025-03-17T00:21:54.226172Z"
    }
   },
   "cell_type": "code",
   "source": [
    "# 📌 문제 10: torch.index_select()를 이용하여 특정 행을 선택하세요.\n",
    "#\n",
    "# (1) 크기가 (5, 4)인 랜덤 텐서를 생성하세요.\n",
    "x = torch.rand(5, 4)\n",
    "print(\"원본 텐서:\\n\", x)\n",
    "\n",
    "# (2) 두 번째와 네 번째 행만 선택하세요.\n",
    "indices = torch.tensor([1, 3])\n",
    "selected_rows = torch.index_select(x, dim=0, index=indices)\n",
    "print(\"선택된 행들:\\n\", selected_rows)"
   ],
   "id": "736c6a9c109422ea",
   "outputs": [
    {
     "name": "stdout",
     "output_type": "stream",
     "text": [
      "원본 텐서:\n",
      " tensor([[0.3277, 0.5268, 0.9474, 0.1342],\n",
      "        [0.6487, 0.1308, 0.2305, 0.4779],\n",
      "        [0.7212, 0.4696, 0.4645, 0.0446],\n",
      "        [0.3043, 0.7325, 0.8315, 0.8508],\n",
      "        [0.9723, 0.8148, 0.4479, 0.1235]])\n",
      "선택된 행들:\n",
      " tensor([[0.6487, 0.1308, 0.2305, 0.4779],\n",
      "        [0.3043, 0.7325, 0.8315, 0.8508]])\n"
     ]
    }
   ],
   "execution_count": 11
  },
  {
   "metadata": {
    "collapsed": true,
    "ExecuteTime": {
     "end_time": "2025-03-17T00:21:54.237394Z",
     "start_time": "2025-03-17T00:21:54.236136Z"
    }
   },
   "cell_type": "code",
   "source": "",
   "id": "initial_id",
   "outputs": [],
   "execution_count": null
  }
 ],
 "metadata": {
  "kernelspec": {
   "display_name": "Python 3",
   "language": "python",
   "name": "python3"
  },
  "language_info": {
   "codemirror_mode": {
    "name": "ipython",
    "version": 2
   },
   "file_extension": ".py",
   "mimetype": "text/x-python",
   "name": "python",
   "nbconvert_exporter": "python",
   "pygments_lexer": "ipython2",
   "version": "2.7.6"
  }
 },
 "nbformat": 4,
 "nbformat_minor": 5
}

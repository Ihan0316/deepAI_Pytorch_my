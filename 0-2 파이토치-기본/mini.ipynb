{
 "cells": [
  {
   "metadata": {
    "ExecuteTime": {
     "end_time": "2025-03-17T00:50:06.662390Z",
     "start_time": "2025-03-17T00:50:06.659990Z"
    }
   },
   "cell_type": "code",
   "source": "import torch",
   "id": "4348ad79e99e1eda",
   "outputs": [],
   "execution_count": 23
  },
  {
   "metadata": {
    "ExecuteTime": {
     "end_time": "2025-03-17T00:50:06.676546Z",
     "start_time": "2025-03-17T00:50:06.673538Z"
    }
   },
   "cell_type": "code",
   "source": [
    "# 📌 문제 1: PyTorch에서 랜덤 텐서를 생성하고, 가장 큰 값을 가진 인덱스를 찾으세요.\n",
    "\n",
    "# (1) 4x4 크기의 랜덤 텐서를 생성하세요.\n",
    "x = torch.rand(4,4)\n",
    "print(x)\n",
    "# (2) 각 행에서 가장 큰 값을 가진 인덱스를 찾으세요.\n",
    "max_indices = torch.argmax(x, dim=1)\n",
    "print(max_indices)"
   ],
   "id": "ba763aba966a972d",
   "outputs": [
    {
     "name": "stdout",
     "output_type": "stream",
     "text": [
      "tensor([[0.9914, 0.1278, 0.4724, 0.8482],\n",
      "        [0.1247, 0.1916, 0.0437, 0.7368],\n",
      "        [0.6733, 0.6197, 0.9376, 0.3216],\n",
      "        [0.4149, 0.8519, 0.9634, 0.8013]])\n",
      "tensor([0, 3, 2, 2])\n"
     ]
    }
   ],
   "execution_count": 24
  },
  {
   "metadata": {
    "ExecuteTime": {
     "end_time": "2025-03-17T00:50:06.688807Z",
     "start_time": "2025-03-17T00:50:06.686727Z"
    }
   },
   "cell_type": "code",
   "source": [
    "# 📌 문제 2: squeeze()와 unsqueeze()를 이용해 텐서의 차원을 조작하세요.\n",
    "#\n",
    "# # (1) (1, 3, 1, 4) 크기의 랜덤 텐서를 생성하세요.\n",
    "x = torch.rand(1,3,1,4)\n",
    "# # (2) squeeze()를 사용하여 크기를 줄이세요.\n",
    "x_squeezed = x.squeeze()\n",
    "print(x_squeezed.shape)\n",
    "# # (3) unsqueeze()를 사용하여 특정 차원에 새 차원을 추가하세요.\n",
    "x_unsqueezed = x_squeezed.unsqueeze_(1)\n",
    "print(x_unsqueezed.shape)"
   ],
   "id": "85046d4da6e6da62",
   "outputs": [
    {
     "name": "stdout",
     "output_type": "stream",
     "text": [
      "torch.Size([3, 4])\n",
      "torch.Size([3, 1, 4])\n"
     ]
    }
   ],
   "execution_count": 25
  },
  {
   "metadata": {
    "ExecuteTime": {
     "end_time": "2025-03-17T00:50:06.713995Z",
     "start_time": "2025-03-17T00:50:06.711181Z"
    }
   },
   "cell_type": "code",
   "source": [
    "# 📌 문제 3: torch.cat()과 torch.stack()의 차이를 확인하세요.\n",
    "# (1) 크기가 (2,3)인 두 개의 텐서를 만드세요.\n",
    "a = torch.tensor([[1,2,3],[4,5,6]])\n",
    "b = torch.tensor([[7,8,9],[10,11,12]])\n",
    "# (2) torch.cat()을 이용하여 dim=0 방향으로 연결하세요.\n",
    "cat_result = torch.cat([a,b], dim=0)\n",
    "print(cat_result)\n",
    "print(cat_result.shape)\n",
    "# (3) torch.stack()을 이용하여 dim=0 방향으로 스택하세요.\n",
    "stack_result = torch.stack([a,b], dim=0)\n",
    "print(stack_result)\n",
    "print(stack_result.shape)\n"
   ],
   "id": "f3f41ef0c211e8db",
   "outputs": [
    {
     "name": "stdout",
     "output_type": "stream",
     "text": [
      "tensor([[ 1,  2,  3],\n",
      "        [ 4,  5,  6],\n",
      "        [ 7,  8,  9],\n",
      "        [10, 11, 12]])\n",
      "torch.Size([4, 3])\n",
      "tensor([[[ 1,  2,  3],\n",
      "         [ 4,  5,  6]],\n",
      "\n",
      "        [[ 7,  8,  9],\n",
      "         [10, 11, 12]]])\n",
      "torch.Size([2, 2, 3])\n"
     ]
    }
   ],
   "execution_count": 26
  },
  {
   "metadata": {
    "ExecuteTime": {
     "end_time": "2025-03-17T00:50:06.726796Z",
     "start_time": "2025-03-17T00:50:06.724249Z"
    }
   },
   "cell_type": "code",
   "source": [
    "# 📌 문제 4: torch.index_select()를 이용해 특정 행/열을 선택하세요.\n",
    "\n",
    "# (1) 크기가 (4,4)인 랜덤 텐서를 생성하세요.\n",
    "x = torch.rand(4, 4)\n",
    "print(\"원본 텐서:\\n\", x)\n",
    "# (2) 첫 번째 열과 세 번째 열을 선택하여 새로운 텐서를 만드세요.\n",
    "indices = torch.tensor([0, 2])\n",
    "selected_cols = torch.index_select(x, dim=1, index=indices)\n",
    "print(\"선택된 열들:\\n\", selected_cols)"
   ],
   "id": "ad41a24af0dd014a",
   "outputs": [
    {
     "name": "stdout",
     "output_type": "stream",
     "text": [
      "원본 텐서:\n",
      " tensor([[0.6825, 0.2197, 0.9470, 0.5651],\n",
      "        [0.0855, 0.6317, 0.3094, 0.8574],\n",
      "        [0.6824, 0.0600, 0.0879, 0.2095],\n",
      "        [0.5460, 0.3745, 0.9605, 0.6643]])\n",
      "선택된 열들:\n",
      " tensor([[0.6825, 0.9470],\n",
      "        [0.0855, 0.3094],\n",
      "        [0.6824, 0.0879],\n",
      "        [0.5460, 0.9605]])\n"
     ]
    }
   ],
   "execution_count": 27
  },
  {
   "metadata": {
    "ExecuteTime": {
     "end_time": "2025-03-17T00:50:06.737597Z",
     "start_time": "2025-03-17T00:50:06.735089Z"
    }
   },
   "cell_type": "code",
   "source": [
    "# 📌 문제 5: torch.topk()와 masked_fill()을 조합하여\n",
    "# 특정 조건을 만족하는 값을 변경하세요.\n",
    "\n",
    "# (1) 크기가 (3,5)인 랜덤 텐서를 생성하세요.\n",
    "x = torch.rand(3, 5)\n",
    "print(\"원본 텐서:\\n\", x)\n",
    "# (2) 각 행에서 상위 3개의 값만 유지하고 나머지는 0으로 채우세요.\n",
    "values, indices = torch.topk(x, k=3, dim=1)\n",
    "#(3) 나머지 모든 원소는 0으로 만들고, 상위 3개만 위치만 유지.\n",
    "# scatter_(1, indices, 1), 1 : 열기준으로 값을 할당,\n",
    "# 찾은 위치의 값 할당,\n",
    "# 1 : 해당 위치에 1로 값을 변경.\n",
    "mask = torch.zeros_like(x).scatter_(1, indices, 1)\n",
    "masked_x = x * mask\n",
    "print(\"상위 3개 값만 유지된 텐서:\\n\", masked_x)"
   ],
   "id": "7e89d858e2cfb8b1",
   "outputs": [
    {
     "name": "stdout",
     "output_type": "stream",
     "text": [
      "원본 텐서:\n",
      " tensor([[0.5520, 0.7762, 0.7653, 0.0819, 0.8706],\n",
      "        [0.7512, 0.5262, 0.6345, 0.4765, 0.4052],\n",
      "        [0.8744, 0.8653, 0.9097, 0.1491, 0.7867]])\n",
      "상위 3개 값만 유지된 텐서:\n",
      " tensor([[0.0000, 0.7762, 0.7653, 0.0000, 0.8706],\n",
      "        [0.7512, 0.5262, 0.6345, 0.0000, 0.0000],\n",
      "        [0.8744, 0.8653, 0.9097, 0.0000, 0.0000]])\n"
     ]
    }
   ],
   "execution_count": 28
  },
  {
   "metadata": {
    "ExecuteTime": {
     "end_time": "2025-03-17T00:50:06.754713Z",
     "start_time": "2025-03-17T00:50:06.752218Z"
    }
   },
   "cell_type": "code",
   "source": [
    "# 📌 문제 6: torch.randperm()을 이용하여 데이터를 랜덤하게 섞은 후,\n",
    "# torch.chunk()로 나누세요.\n",
    "#\n",
    "# (1) 10개의 원소를 가진 텐서를 0~9까지 숫자로 채우세요.\n",
    "x = torch.arange(10)\n",
    "print(\"원본 텐서:\", x)\n",
    "\n",
    "# (2) `torch.randperm()`을 사용하여 무작위로 섞으세요.\n",
    "shuffled_x = x[torch.randperm(10)]\n",
    "print(\"섞인 텐서:\", shuffled_x)\n",
    "# (3) `torch.chunk()`를 사용하여 2개의 부분으로 나누세요.\n",
    "chunks = torch.chunk(shuffled_x, chunks=2)\n",
    "print(\"첫 번째 부분:\", chunks[0])\n",
    "print(\"두 번째 부분:\", chunks[1])"
   ],
   "id": "779c6c937d4a789",
   "outputs": [
    {
     "name": "stdout",
     "output_type": "stream",
     "text": [
      "원본 텐서: tensor([0, 1, 2, 3, 4, 5, 6, 7, 8, 9])\n",
      "섞인 텐서: tensor([5, 6, 1, 4, 0, 2, 9, 3, 7, 8])\n",
      "첫 번째 부분: tensor([5, 6, 1, 4, 0])\n",
      "두 번째 부분: tensor([2, 9, 3, 7, 8])\n"
     ]
    }
   ],
   "execution_count": 29
  },
  {
   "metadata": {
    "ExecuteTime": {
     "end_time": "2025-03-17T00:50:06.770008Z",
     "start_time": "2025-03-17T00:50:06.767821Z"
    }
   },
   "cell_type": "code",
   "source": [
    "# 📌 문제 7: expand()를 사용하여 텐서 크기를 확장하세요.\n",
    "\n",
    "# (1) 크기가 (1, 3)인 텐서를 생성하세요.\n",
    "x = torch.tensor([[1, 2, 3]])  # Shape: (1,3)\n",
    "print(\"원본 텐서:\\n\", x)\n",
    "# (2) `expand()`를 사용하여 (5, 3) 크기로 확장하세요.\n",
    "expanded_x = x.expand(5, 3)\n",
    "print(\"expand() 적용 후:\\n\", expanded_x)\n"
   ],
   "id": "820970dc612f5322",
   "outputs": [
    {
     "name": "stdout",
     "output_type": "stream",
     "text": [
      "원본 텐서:\n",
      " tensor([[1, 2, 3]])\n",
      "expand() 적용 후:\n",
      " tensor([[1, 2, 3],\n",
      "        [1, 2, 3],\n",
      "        [1, 2, 3],\n",
      "        [1, 2, 3],\n",
      "        [1, 2, 3]])\n"
     ]
    }
   ],
   "execution_count": 30
  },
  {
   "metadata": {
    "ExecuteTime": {
     "end_time": "2025-03-17T00:50:06.786581Z",
     "start_time": "2025-03-17T00:50:06.784043Z"
    }
   },
   "cell_type": "code",
   "source": [
    "# 📌 문제 8: split()과 chunk()의 차이를 이해하세요.\n",
    "#\n",
    "# (1) 크기가 (10,)인 1D 텐서를 생성하세요.\n",
    "x = torch.arange(10)\n",
    "print(\"원본 텐서:\", x)\n",
    "# (2) `split()`을 사용하여 3개의 텐서로 나누세요.\n",
    "split_result = torch.split(x, [3, 3, 4])\n",
    "print(\"split() 결과:\", split_result)\n",
    "# (3) `chunk()`을 사용하여 3개의 텐서로 나누세요.\n",
    "chunk_result = torch.chunk(x, chunks=3)\n",
    "print(\"chunk() 결과:\", chunk_result)"
   ],
   "id": "4cfad53a64a335ab",
   "outputs": [
    {
     "name": "stdout",
     "output_type": "stream",
     "text": [
      "원본 텐서: tensor([0, 1, 2, 3, 4, 5, 6, 7, 8, 9])\n",
      "split() 결과: (tensor([0, 1, 2]), tensor([3, 4, 5]), tensor([6, 7, 8, 9]))\n",
      "chunk() 결과: (tensor([0, 1, 2, 3]), tensor([4, 5, 6, 7]), tensor([8, 9]))\n"
     ]
    }
   ],
   "execution_count": 31
  },
  {
   "metadata": {
    "ExecuteTime": {
     "end_time": "2025-03-17T00:50:06.801519Z",
     "start_time": "2025-03-17T00:50:06.798970Z"
    }
   },
   "cell_type": "code",
   "source": [
    "# 📌 문제 9: masked_fill()을 사용하여 특정 조건을 만족하는 요소를 변경하세요.\n",
    "\n",
    "# (1) 크기가 (3, 3)인 랜덤 텐서를 생성하세요.\n",
    "x = torch.rand(3, 3)\n",
    "print(\"원본 텐서:\\n\", x)\n",
    "\n",
    "# (2) 값이 0.5보다 작은 요소를 -1로 변경하세요.\n",
    "masked_x = x.masked_fill(x < 0.5, -1)\n",
    "print(\"masked_fill() 적용 후:\\n\", masked_x)\n"
   ],
   "id": "54c4e1030d4f6300",
   "outputs": [
    {
     "name": "stdout",
     "output_type": "stream",
     "text": [
      "원본 텐서:\n",
      " tensor([[0.7494, 0.8215, 0.1657],\n",
      "        [0.2160, 0.6427, 0.1532],\n",
      "        [0.8059, 0.2420, 0.5358]])\n",
      "masked_fill() 적용 후:\n",
      " tensor([[ 0.7494,  0.8215, -1.0000],\n",
      "        [-1.0000,  0.6427, -1.0000],\n",
      "        [ 0.8059, -1.0000,  0.5358]])\n"
     ]
    }
   ],
   "execution_count": 32
  },
  {
   "metadata": {
    "ExecuteTime": {
     "end_time": "2025-03-17T00:50:06.816066Z",
     "start_time": "2025-03-17T00:50:06.813731Z"
    }
   },
   "cell_type": "code",
   "source": [
    "# 📌 문제 10: torch.index_select()를 이용하여 특정 행을 선택하세요.\n",
    "#\n",
    "# (1) 크기가 (5, 4)인 랜덤 텐서를 생성하세요.\n",
    "x = torch.rand(5, 4)\n",
    "print(\"원본 텐서:\\n\", x)\n",
    "\n",
    "# (2) 두 번째와 네 번째 행만 선택하세요.\n",
    "indices = torch.tensor([1, 3])\n",
    "selected_rows = torch.index_select(x, dim=0, index=indices)\n",
    "print(\"선택된 행들:\\n\", selected_rows)"
   ],
   "id": "736c6a9c109422ea",
   "outputs": [
    {
     "name": "stdout",
     "output_type": "stream",
     "text": [
      "원본 텐서:\n",
      " tensor([[0.6408, 0.8483, 0.2052, 0.0337],\n",
      "        [0.3043, 0.3742, 0.2450, 0.4660],\n",
      "        [0.4244, 0.3120, 0.8635, 0.3524],\n",
      "        [0.3663, 0.3223, 0.0154, 0.0703],\n",
      "        [0.6525, 0.3289, 0.1172, 0.8535]])\n",
      "선택된 행들:\n",
      " tensor([[0.3043, 0.3742, 0.2450, 0.4660],\n",
      "        [0.3663, 0.3223, 0.0154, 0.0703]])\n"
     ]
    }
   ],
   "execution_count": 33
  },
  {
   "metadata": {
    "collapsed": true,
    "ExecuteTime": {
     "end_time": "2025-03-17T00:50:06.829673Z",
     "start_time": "2025-03-17T00:50:06.828462Z"
    }
   },
   "cell_type": "code",
   "source": "",
   "id": "initial_id",
   "outputs": [],
   "execution_count": null
  }
 ],
 "metadata": {
  "kernelspec": {
   "display_name": "Python 3",
   "language": "python",
   "name": "python3"
  },
  "language_info": {
   "codemirror_mode": {
    "name": "ipython",
    "version": 2
   },
   "file_extension": ".py",
   "mimetype": "text/x-python",
   "name": "python",
   "nbconvert_exporter": "python",
   "pygments_lexer": "ipython2",
   "version": "2.7.6"
  }
 },
 "nbformat": 4,
 "nbformat_minor": 5
}

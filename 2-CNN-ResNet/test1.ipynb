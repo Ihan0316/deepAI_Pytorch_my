{
 "cells": [
  {
   "metadata": {
    "ExecuteTime": {
     "end_time": "2025-03-18T05:40:00.640886Z",
     "start_time": "2025-03-18T05:39:54.308821Z"
    }
   },
   "cell_type": "code",
   "source": [
    "import torch\n",
    "import torch.nn as nn\n",
    "import torch.optim as optim\n",
    "import torchvision\n",
    "import torchvision.transforms as transforms\n",
    "import matplotlib.pyplot as plt\n",
    "\n",
    "# MPS 디바이스 설정 (Mac GPU 사용)\n",
    "device = torch.device(\"mps\" if torch.backends.mps.is_available() else \"cpu\")\n",
    "\n",
    "# 데이터 로딩\n",
    "transform = transforms.Compose([transforms.ToTensor()])\n",
    "trainset = torchvision.datasets.MNIST(root='./data', train=True, download=True, transform=transform)\n",
    "trainloader = torch.utils.data.DataLoader(trainset, batch_size=64, shuffle=True)\n",
    "\n",
    "# CNN 모델 정의\n",
    "class BasicCNN(nn.Module):\n",
    "    def __init__(self):\n",
    "        super(BasicCNN, self).__init__()\n",
    "        self.conv1 = nn.Conv2d(1, 16, kernel_size=3, stride=1, padding=1)\n",
    "        self.pool = nn.MaxPool2d(2, 2)\n",
    "        self.fc1 = nn.Linear(16 * 14 * 14, 10)\n",
    "\n",
    "    def forward(self, x):\n",
    "        x = self.pool(torch.relu(self.conv1(x)))\n",
    "        x = x.view(-1, 16 * 14 * 14)\n",
    "        x = self.fc1(x)\n",
    "        return x\n",
    "\n",
    "# 모델 초기화 및 디바이스 이동\n",
    "model = BasicCNN().to(device)\n",
    "criterion = nn.CrossEntropyLoss()\n",
    "optimizer = optim.Adam(model.parameters(), lr=0.001)\n",
    "\n",
    "# 모델 학습\n",
    "for epoch in range(3):\n",
    "    for images, labels in trainloader:\n",
    "        images, labels = images.to(device), labels.to(device)  # 데이터를 GPU로 이동\n",
    "        optimizer.zero_grad()\n",
    "        outputs = model(images)\n",
    "        loss = criterion(outputs, labels)\n",
    "        loss.backward()\n",
    "        optimizer.step()\n",
    "\n",
    "# 샘플 데이터 5개 확인\n",
    "def show_sample_images():\n",
    "    dataiter = iter(trainloader)\n",
    "    images, labels = next(dataiter)\n",
    "\n",
    "    # 5개 이미지 출력 (CPU로 이동하여 시각화)\n",
    "    fig, axes = plt.subplots(1, 5, figsize=(10, 2))\n",
    "    for i in range(5):\n",
    "        axes[i].imshow(images[i].squeeze().cpu(), cmap='gray')  # GPU 데이터를 CPU로 이동\n",
    "        axes[i].set_title(f\"Label: {labels[i].item()}\")\n",
    "        axes[i].axis('off')\n",
    "    plt.show()\n",
    "\n",
    "    # 모델 예측값 출력\n",
    "    model.eval()\n",
    "    with torch.no_grad():\n",
    "        images = images.to(device)  # 이미지를 GPU로 이동\n",
    "        outputs = model(images[:5])\n",
    "        _, predicted = torch.max(outputs.cpu(), 1)  # 결과를 CPU로 이동하여 처리\n",
    "\n",
    "    print(f\"실제 레이블: {labels[:5].tolist()}\")\n",
    "    print(f\"예측된 레이블: {predicted.tolist()}\")\n",
    "\n",
    "# 샘플 확인 실행\n",
    "show_sample_images()\n"
   ],
   "id": "d4ec6d453bda019f",
   "outputs": [
    {
     "data": {
      "text/plain": [
       "<Figure size 1000x200 with 5 Axes>"
      ],
      "image/png": "[encoded data removed]"
     },
     "metadata": {},
     "output_type": "display_data"
    },
    {
     "name": "stdout",
     "output_type": "stream",
     "text": [
      "실제 레이블: [9, 1, 0, 3, 2]\n",
      "예측된 레이블: [9, 1, 0, 3, 2]\n"
     ]
    }
   ],
   "execution_count": 3
  }
 ],
 "metadata": {
  "kernelspec": {
   "display_name": "Python 3",
   "language": "python",
   "name": "python3"
  },
  "language_info": {
   "codemirror_mode": {
    "name": "ipython",
    "version": 2
   },
   "file_extension": ".py",
   "mimetype": "text/x-python",
   "name": "python",
   "nbconvert_exporter": "python",
   "pygments_lexer": "ipython2",
   "version": "2.7.6"
  }
 },
 "nbformat": 4,
 "nbformat_minor": 5
}
